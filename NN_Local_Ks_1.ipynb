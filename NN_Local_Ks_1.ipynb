{
 "cells": [
  {
   "cell_type": "code",
   "execution_count": 1,
   "metadata": {},
   "outputs": [],
   "source": [
    "import pickle\n",
    "import numpy as np\n",
    "from matplotlib import pyplot as plt\n",
    "\n",
    "import torch\n",
    "import torch.nn as nn\n",
    "import torch.optim as optim"
   ]
  },
  {
   "cell_type": "code",
   "execution_count": 2,
   "metadata": {},
   "outputs": [],
   "source": [
    "# Fully-connected neural network class for predicting local stiffness matrix from triangle's coordinates\n",
    "# - - - - - - - - - - - - - - - - - - - - - - - - - - - - - - - - - - - - - - - - - - - - - - - - - - - - \n",
    "\n",
    "class StiffnessPredictor_1(nn.Module):\n",
    "    def __init__(self):\n",
    "        super().__init__()\n",
    "\n",
    "        self.linear_1 = nn.Linear(10, 1024)\n",
    "        self.bn_1     = nn.BatchNorm1d(1024)\n",
    "\n",
    "        self.linear_2 = nn.Linear(1024, 2048)\n",
    "        self.bn_2     = nn.BatchNorm1d(2048)\n",
    "\n",
    "        self.linear_3 = nn.Linear(2048, 1024)\n",
    "        self.bn_3     = nn.BatchNorm1d(1024)\n",
    "\n",
    "        self.linear_4 = nn.Linear(1024, 36)\n",
    "\n",
    "        self.activation = nn.Sigmoid()\n",
    "\n",
    "    def forward(self, x):\n",
    "        x = self.linear_1(x)\n",
    "        x = self.bn_1(x)\n",
    "        x = self.activation(x)\n",
    "\n",
    "        x = self.linear_2(x)\n",
    "        x = self.bn_2(x)\n",
    "        x = self.activation(x)\n",
    "        \n",
    "        x = self.linear_3(x)\n",
    "        x = self.bn_3(x)\n",
    "        x = self.activation(x)\n",
    "\n",
    "        x = self.linear_4(x)\n",
    "\n",
    "        return x\n"
   ]
  },
  {
   "cell_type": "code",
   "execution_count": 3,
   "metadata": {},
   "outputs": [],
   "source": [
    " # Training routine\n",
    " # - - - - - - - - -\n",
    "\n",
    "def train(model, batches, lr, n_epochs):\n",
    "    optimizer = torch.optim.Adam(model.parameters(), lr)\n",
    "    loss_func = nn.MSELoss()\n",
    "    loss_hist = []\n",
    "\n",
    "    for i in range(n_epochs):\n",
    "        print(f' * * * Epoch {i+1}/{n_epochs} * * * ')\n",
    "\n",
    "        for batch in batches:\n",
    "            coords, matricies = batch\n",
    "            coords    = torch.FloatTensor(coords)\n",
    "            matricies = torch.FloatTensor(matricies)\n",
    "\n",
    "            predict = model(coords)\n",
    "            loss = loss_func(predict, matricies)\n",
    "\n",
    "            optimizer.zero_grad()\n",
    "            loss.backward()\n",
    "            optimizer.step()\n",
    "\n",
    "            loss_hist.append(loss.item())\n",
    "\n",
    "    return loss_hist"
   ]
  },
  {
   "cell_type": "code",
   "execution_count": 4,
   "metadata": {},
   "outputs": [],
   "source": [
    "import math\n",
    "\n",
    "def triangle_angles(triangle):\n",
    "    x1, y1, x2, y2, x3, y3 = triangle\n",
    "    # Calculate lengths of the sides using the distance formula\n",
    "    a = np.sqrt((x2 - x3)**2 + (y2 - y3)**2)\n",
    "    b = np.sqrt((x1 - x3)**2 + (y1 - y3)**2)\n",
    "    c = np.sqrt((x1 - x2)**2 + (y1 - y2)**2)\n",
    "\n",
    "    # Calculate angles using the law of cosines\n",
    "    angle_A = math.acos((b**2 + c**2 - a**2) / (2 * b * c))\n",
    "    angle_B = math.acos((a**2 + c**2 - b**2) / (2 * a * c))\n",
    "    angle_C = math.acos((a**2 + b**2 - c**2) / (2 * a * b))\n",
    "\n",
    "    return angle_A, angle_B, angle_C\n",
    "\n",
    "\n",
    "def triangle_area(triangle):\n",
    "    x1, y1, x2, y2, x3, y3 = triangle\n",
    "    area = 0.5 * abs(x1*(y2-y3) + x2*(y3-y1) + x3*(y1-y2))\n",
    "    return area\n",
    "\n",
    "\n",
    "def node_shifts(triangle):\n",
    "    x1, y1, x2, y2, x3, y3 = triangle\n",
    "\n",
    "    centroid_x = (x1 + x2 + x3)/3\n",
    "    centroid_y = (y1 + y2 + y3)/3\n",
    "\n",
    "    x1 -= centroid_x\n",
    "    y1 -= centroid_y\n",
    "    x2 -= centroid_x\n",
    "    y2 -= centroid_y\n",
    "    x3 -= centroid_x\n",
    "    y3 -= centroid_y\n",
    "\n",
    "    return [x1, y1, x2, y2, x3, y3]"
   ]
  },
  {
   "cell_type": "code",
   "execution_count": 5,
   "metadata": {},
   "outputs": [],
   "source": [
    "# Loading data, splitting to train & test, forming bacthes\n",
    "# - - - - - - - - - - - - - - - - - - - - - - - - - - - - -\n",
    "\n",
    "filename_K = 'K_data.pkl'\n",
    "filename_x = 'X_data.pkl'\n",
    "\n",
    "with open(filename_K, 'rb') as f:\n",
    "    K_data = pickle.load(f)\n",
    "\n",
    "with open(filename_x, 'rb') as f:\n",
    "    x_data = pickle.load(f)\n",
    "\n",
    "train_frac = 0.9\n",
    "train_N    = int(len(K_data)*train_frac)\n",
    "batch_size = 32\n",
    "\n",
    "K_train = K_data[:train_N]\n",
    "K_test  = K_data[train_N:]\n",
    "\n",
    "x_train = x_data[:train_N]\n",
    "x_test  = x_data[train_N:]\n",
    "\n",
    "\n",
    "# Forming features\n",
    "for i, x in enumerate(x_train):\n",
    "    \n",
    "    angle_1, angle_2, angle_3 = triangle_angles(x)\n",
    "    area = triangle_area(x)\n",
    "    x1, y1, x2, y2, x3, y3 = node_shifts(x)\n",
    "\n",
    "    x_train[i] = [angle_1, angle_2, angle_3, area, x1, y1, x2, y2, x3, y3]"
   ]
  },
  {
   "cell_type": "code",
   "execution_count": 6,
   "metadata": {},
   "outputs": [],
   "source": [
    "\n",
    "batches = []\n",
    "N_batches = len(K_train) // batch_size\n",
    "\n",
    "np.random.seed(40)\n",
    "\n",
    "for i in range(N_batches):\n",
    "    batch_x = []\n",
    "    batch_K = []\n",
    "\n",
    "    for j in range(batch_size):\n",
    "        idx = np.random.randint(0, len(x_train)-1)\n",
    "        batch_x.append(x_train[idx])\n",
    "        batch_K.append(K_train[idx].flatten())\n",
    "\n",
    "    batches.append((np.array(batch_x), np.array(batch_K)))\n"
   ]
  },
  {
   "cell_type": "code",
   "execution_count": 7,
   "metadata": {},
   "outputs": [],
   "source": [
    "model = StiffnessPredictor_1()\n",
    "loss_history = []"
   ]
  },
  {
   "cell_type": "code",
   "execution_count": 8,
   "metadata": {},
   "outputs": [
    {
     "name": "stdout",
     "output_type": "stream",
     "text": [
      " * * * Epoch 1/3 * * * \n",
      " * * * Epoch 2/3 * * * \n",
      " * * * Epoch 3/3 * * * \n",
      " * * * Epoch 1/1 * * * \n"
     ]
    }
   ],
   "source": [
    "# Training model\n",
    "# - - - - - - - -\n",
    "loss_history += train(model, batches[:], 1e-4, 3)\n",
    "loss_history += train(model, batches[:], 1e-6, 1)"
   ]
  },
  {
   "cell_type": "code",
   "execution_count": 42,
   "metadata": {},
   "outputs": [
    {
     "data": {
      "image/png": "[encoded data removed]",
      "text/plain": [
       "<Figure size 1000x400 with 1 Axes>"
      ]
     },
     "metadata": {},
     "output_type": "display_data"
    }
   ],
   "source": [
    "plt.style.use('dark_background')\n",
    "plt.figure(figsize = (10, 4))\n",
    "\n",
    "plt.plot(loss_history[::40], color = 'orange')\n",
    "\n",
    "plt.grid(color = 'white', alpha = 0.3)\n",
    "plt.title('Loss history')\n",
    "plt.show()"
   ]
  },
  {
   "cell_type": "code",
   "execution_count": 10,
   "metadata": {},
   "outputs": [],
   "source": [
    "# Test evaluation\n",
    "# - - - - - - - - -\n",
    "\n",
    "K_probes = []\n",
    "\n",
    "i = 0\n",
    "model.eval()\n",
    "with torch.no_grad():\n",
    "    for x, K in zip(x_test, K_test):\n",
    "        i += 1\n",
    "\n",
    "        angle_1, angle_2, angle_3 = triangle_angles(x)\n",
    "        area = triangle_area(x)\n",
    "        x1, y1, x2, y2, x3, y3 = node_shifts(x)\n",
    "\n",
    "        x_inp = [angle_1, angle_2, angle_3, area, x1, y1, x2, y2, x3, y3]\n",
    "\n",
    "        x_inp = torch.FloatTensor(x_inp)\n",
    "        K_probe = model(x_inp.reshape(1, 10)).detach()\n",
    "        \n",
    "        K_probes.append(K_probe.reshape(6, 6))"
   ]
  },
  {
   "cell_type": "code",
   "execution_count": 31,
   "metadata": {},
   "outputs": [
    {
     "data": {
      "image/png": "[encoded data removed]",
      "text/plain": [
       "<Figure size 800x400 with 4 Axes>"
      ]
     },
     "metadata": {},
     "output_type": "display_data"
    }
   ],
   "source": [
    "idx = 82\n",
    "\n",
    "fig, axes = plt.subplots(1, 2, figsize = (8, 4))\n",
    "\n",
    "pos0 = axes[0].imshow(K_test[idx], vmin = -1, vmax = 1)\n",
    "pos1 = axes[1].imshow(np.array(K_probes[idx]), vmin = -1, vmax = 1)\n",
    "\n",
    "fig.colorbar(pos0, shrink = 0.75)\n",
    "fig.colorbar(pos1, shrink = 0.75)\n",
    "\n",
    "axes[0].set_title('Analytic stiffness matrix')\n",
    "axes[1].set_title('NN stiffness matrix')\n",
    "\n",
    "plt.show()"
   ]
  },
  {
   "cell_type": "code",
   "execution_count": 12,
   "metadata": {},
   "outputs": [
    {
     "name": "stdout",
     "output_type": "stream",
     "text": [
      "Mean relative error in stiffness: 8.1572%\n"
     ]
    }
   ],
   "source": [
    "# Calculating mean relative error \n",
    "# - - - - - - - - - - - - - - - - \n",
    "\n",
    "errors = []\n",
    "for Kt, Kp in zip(K_test, K_probes):\n",
    "    err = np.mean(np.abs(Kt - np.array(Kp))) / np.mean(np.abs(Kt))\n",
    "    errors.append(err)\n",
    "\n",
    "errors = np.array(errors)\n",
    "print(f'Mean relative error in stiffness: {100*np.mean(errors):.4f}%')"
   ]
  },
  {
   "cell_type": "code",
   "execution_count": 43,
   "metadata": {},
   "outputs": [],
   "source": [
    "# Saving model weights\n",
    "# - - - - - - - - - - -\n",
    "\n",
    "filename = 'Stiffness_Predictor_v1.pth'\n",
    "torch.save(model.state_dict(), filename)"
   ]
  },
  {
   "cell_type": "code",
   "execution_count": null,
   "metadata": {},
   "outputs": [],
   "source": []
  }
 ],
 "metadata": {
  "kernelspec": {
   "display_name": "Python 3",
   "language": "python",
   "name": "python3"
  },
  "language_info": {
   "codemirror_mode": {
    "name": "ipython",
    "version": 3
   },
   "file_extension": ".py",
   "mimetype": "text/x-python",
   "name": "python",
   "nbconvert_exporter": "python",
   "pygments_lexer": "ipython3",
   "version": "3.10.11"
  }
 },
 "nbformat": 4,
 "nbformat_minor": 2
}
